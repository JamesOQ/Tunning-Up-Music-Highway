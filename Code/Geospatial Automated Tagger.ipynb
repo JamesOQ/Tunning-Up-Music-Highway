{
 "cells": [
  {
   "cell_type": "markdown",
   "metadata": {},
   "source": [
    "# Geospatial Feature Tagging for I-40 Crash Data\n"
   ]
  },
  {
   "cell_type": "code",
   "execution_count": null,
   "metadata": {},
   "outputs": [],
   "source": [
    "import pandas as pd\n",
    "import re\n",
    "\n",
    "# File Paths\n",
    "crash_data_path = \"datasets/Filtered_I40_Crashes_GEOSPATIAL_JOIN.csv\"\n",
    "manual_features_path = \"datasets/Manual Geospatial Feature Classification by Section.csv\"\n",
    "output_path = \"datasets/ALL_I40_crash_data_final.csv\""
   ]
  },
  {
   "cell_type": "code",
   "execution_count": null,
   "metadata": {},
   "outputs": [],
   "source": [
    "# Parameters\n",
    "longitude_col = \"Longitude_adj\"\n",
    "min_longitude = -89.073096\n",
    "max_longitude = -88.198390"
   ]
  },
  {
   "cell_type": "code",
   "execution_count": null,
   "metadata": {},
   "outputs": [],
   "source": [
    "# Data loading \n",
    "crash_data = pd.read_csv(crash_data_path)\n",
    "manual_features = pd.read_excel(manual_features_path, sheet_name=None)"
   ]
  },
  {
   "cell_type": "code",
   "execution_count": null,
   "metadata": {},
   "outputs": [],
   "source": [
    "# Parse the manual annotations \n",
    "feature_lookup = {}\n",
    "\n",
    "for sheet_name, df in manual_features.items():\n",
    "    df = df.fillna(\"\")\n",
    "    feature = None\n",
    "\n",
    "    for index, row in df.iterrows():\n",
    "        row_first_cell = str(row.iloc[0]).strip()\n",
    "\n",
    "        if \"=\" not in row_first_cell and row_first_cell != \"\":\n",
    "            feature = row_first_cell\n",
    "            if feature not in feature_lookup:\n",
    "                feature_lookup[feature] = {}\n",
    "            continue\n",
    "\n",
    "        if \"=\" in row_first_cell:\n",
    "            parts = row_first_cell.split(\"=\")\n",
    "            category = parts[0].strip()\n",
    "            if category not in feature_lookup[feature]:\n",
    "                feature_lookup[feature][category] = []\n",
    "\n",
    "            for col in range(1, 6):\n",
    "                range_string = row.iloc[col]\n",
    "                pattern = r\"(-?\\\\d+\\\\.\\\\d+)\\\\s+to\\\\s+(-?\\\\d+\\\\.\\\\d+)\"\n",
    "                matches = re.findall(pattern, str(range_string))\n",
    "                for start, end in matches:\n",
    "                    feature_lookup[feature][category].append((float(start), float(end)))"
   ]
  },
  {
   "cell_type": "code",
   "execution_count": null,
   "metadata": {},
   "outputs": [],
   "source": [
    "# filter by longitude \n",
    "crash_data_filtered = crash_data[\n",
    "    (crash_data[longitude_col] >= min_longitude) & \n",
    "    (crash_data[longitude_col] <= max_longitude)\n",
    "].copy()"
   ]
  },
  {
   "cell_type": "code",
   "execution_count": null,
   "metadata": {},
   "outputs": [],
   "source": [
    "# tagging step \n",
    "def tag_feature(lon, feature_ranges):\n",
    "    hits = []\n",
    "    for category, ranges in feature_ranges.items():\n",
    "        for start, end in ranges:\n",
    "            low, high = min(start, end), max(start, end)\n",
    "            if low <= lon <= high:\n",
    "                hits.append(category)\n",
    "                break\n",
    "    if len(hits) == 0:\n",
    "        return \"none\"\n",
    "    elif len(hits) == 1:\n",
    "        return hits[0]\n",
    "    else:\n",
    "        return \"MC\"\n",
    "\n",
    "for feature in feature_lookup:\n",
    "    crash_data_filtered[feature] = crash_data_filtered[longitude_col].apply(\n",
    "        lambda lon: tag_feature(lon, feature_lookup[feature])\n",
    "    )"
   ]
  },
  {
   "cell_type": "code",
   "execution_count": null,
   "metadata": {},
   "outputs": [],
   "source": [
    "# Export \n",
    "crash_data_filtered.to_csv(output_path, index=False)\n",
    "print(f\"File saved as: {output_path}\")"
   ]
  }
 ],
 "metadata": {
  "kernelspec": {
   "display_name": "Python 3",
   "language": "python",
   "name": "python3"
  },
  "language_info": {
   "name": "python",
   "version": "3.8"
  }
 },
 "nbformat": 4,
 "nbformat_minor": 5
}
